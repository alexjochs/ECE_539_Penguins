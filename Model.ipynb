{
  "cells": [
    {
      "cell_type": "markdown",
      "metadata": {
        "id": "view-in-github",
        "colab_type": "text"
      },
      "source": [
        "<a href=\"https://colab.research.google.com/github/alexjochs/ECE_539_Penguins/blob/model/Model.ipynb\" target=\"_parent\"><img src=\"https://colab.research.google.com/assets/colab-badge.svg\" alt=\"Open In Colab\"/></a>"
      ]
    },
    {
      "cell_type": "code",
      "execution_count": 77,
      "metadata": {
        "scrolled": true,
        "id": "Z0SK51RwOxVQ"
      },
      "outputs": [],
      "source": [
        "from tensorflow.keras.layers import BatchNormalization\n",
        "from keras.preprocessing.image import load_img,img_to_array\n",
        "from sklearn.metrics import mean_squared_error\n",
        "from keras.initializers import RandomNormal\n",
        "from keras.applications.vgg16 import VGG16\n",
        "from tensorflow.keras.optimizers import SGD\n",
        "from keras.models import Model,Sequential\n",
        "from keras.layers import *\n",
        "from keras import backend as K\n",
        "from keras.models import model_from_json\n",
        "from matplotlib import cm as CM\n",
        "import matplotlib.pyplot as plt\n",
        "import tensorflow as tf\n",
        "from tqdm import tqdm\n",
        "import scipy.io as io\n",
        "from PIL import Image\n",
        "import PIL\n",
        "import h5py\n",
        "import os\n",
        "import glob\n",
        "import cv2\n",
        "import random\n",
        "import math\n",
        "import sys\n",
        "import numpy as np"
      ]
    },
    {
      "cell_type": "code",
      "source": [
        "from google.colab import drive\n",
        "drive.mount('/content/drive')"
      ],
      "metadata": {
        "colab": {
          "base_uri": "https://localhost:8080/"
        },
        "id": "2-N73h7SOyP4",
        "outputId": "292387ce-3a1a-4cbe-f5a4-e1cce5861a8e"
      },
      "execution_count": 78,
      "outputs": [
        {
          "output_type": "stream",
          "name": "stdout",
          "text": [
            "Drive already mounted at /content/drive; to attempt to forcibly remount, call drive.mount(\"/content/drive\", force_remount=True).\n"
          ]
        }
      ]
    },
    {
      "cell_type": "code",
      "execution_count": 79,
      "metadata": {
        "colab": {
          "base_uri": "https://localhost:8080/"
        },
        "id": "KgTSZe4EOxVS",
        "outputId": "513f6609-a2f2-414f-c133-a76b7950707b"
      },
      "outputs": [
        {
          "output_type": "stream",
          "name": "stdout",
          "text": [
            "/content\n",
            "/content/drive/MyDrive/Colab\\ Notebooks/539\\ Project/data\n"
          ]
        }
      ],
      "source": [
        "K.clear_session()\n",
        "root = r'/content'\n",
        "gdrive_data_filepath = os.path.join(root, 'drive', 'MyDrive', 'Colab\\ Notebooks', '539\\ Project', 'data')\n",
        "print(root)\n",
        "print(gdrive_data_filepath)"
      ]
    },
    {
      "cell_type": "code",
      "source": [
        "def get_new_batch(target=None):\n",
        "    os.chdir(root)\n",
        "    assert target is not None, f\"can't get specific folder: {target} and load all data\"\n",
        "    tgz_name = target + '.tgz'\n",
        "    folder_path = os.path.join(gdrive_data_filepath, tgz_name)\n",
        "    !tar -xf {folder_path} -C {root}\n",
        "    # cwd = os.path.join(root, target) NECESSARY?? TODO"
      ],
      "metadata": {
        "id": "kFMeTT-MZjuF"
      },
      "execution_count": 80,
      "outputs": []
    },
    {
      "cell_type": "code",
      "source": [
        "MASTER_LIST = ['BAILa', 'DAMOa', 'HALFb', 'HALFc', 'LOCKb', 'MAIVb', 'MAIVc', 'NEKOa', 'NEKOb', 'NEKOc', 'PETEc', 'PETEd', 'PETEe', 'PETEf', 'SPIGa', 'GEORa']\n",
        "# slice working list to split workload between us\n",
        "working_list = MASTER_LIST[:8] # TODO"
      ],
      "metadata": {
        "id": "SJemuNqqdE7V"
      },
      "execution_count": 81,
      "outputs": []
    },
    {
      "cell_type": "code",
      "source": [
        "# TODO\n",
        "# for x in working_list:\n",
        "#     !rm -rf {x}\n",
        "#     !rm -rf {x}_gt\n",
        "# !rm -rf /content/content\n",
        "!rm -rf /content/sample_data/"
      ],
      "metadata": {
        "id": "1k1i4MZ-gvT0"
      },
      "execution_count": 82,
      "outputs": []
    },
    {
      "cell_type": "code",
      "source": [
        "# Extract all images\n",
        "for data_split_name in MASTER_LIST:\n",
        "    if not os.path.exists(data_split_name):\n",
        "        get_new_batch(data_split_name)\n",
        "        get_new_batch(data_split_name + '_gt')"
      ],
      "metadata": {
        "colab": {
          "base_uri": "https://localhost:8080/"
        },
        "id": "mBScMzNtZUPf",
        "outputId": "3adb4d86-85da-43d0-d0cc-95602e9edbc3"
      },
      "execution_count": 13,
      "outputs": [
        {
          "output_type": "stream",
          "name": "stdout",
          "text": [
            "tar: /content/drive/MyDrive/Colab Notebooks/539 Project/data/PETEe.tgz: Cannot read: No space left on device\n",
            "tar: At beginning of tape, quitting now\n",
            "tar: Error is not recoverable: exiting now\n",
            "^C\n",
            "^C\n",
            "^C\n",
            "tar: /content/drive/MyDrive/Colab Notebooks/539 Project/data/SPIGa.tgz: Cannot read: No space left on device\n",
            "tar: At beginning of tape, quitting now\n",
            "tar: Error is not recoverable: exiting now\n",
            "tar: /content/drive/MyDrive/Colab Notebooks/539 Project/data/SPIGa_gt.tgz: Cannot read: No space left on device\n",
            "tar: At beginning of tape, quitting now\n",
            "tar: Error is not recoverable: exiting now\n",
            "tar: /content/drive/MyDrive/Colab Notebooks/539 Project/data/GEORa.tgz: Cannot read: No space left on device\n",
            "tar: At beginning of tape, quitting now\n",
            "tar: Error is not recoverable: exiting now\n",
            "tar: /content/drive/MyDrive/Colab Notebooks/539 Project/data/GEORa_gt.tgz: Cannot read: No space left on device\n",
            "tar: At beginning of tape, quitting now\n",
            "tar: Error is not recoverable: exiting now\n"
          ]
        }
      ]
    },
    {
      "cell_type": "code",
      "execution_count": 83,
      "metadata": {
        "id": "2OzwF0N1OxVT",
        "colab": {
          "base_uri": "https://localhost:8080/"
        },
        "outputId": "e90f0ea0-cfd0-4777-86bb-e6e66807ca3d"
      },
      "outputs": [
        {
          "output_type": "execute_result",
          "data": {
            "text/plain": [
              "['/content/BAILa',\n",
              " '/content/DAMOa',\n",
              " '/content/HALFb',\n",
              " '/content/HALFc',\n",
              " '/content/LOCKb',\n",
              " '/content/MAIVb',\n",
              " '/content/MAIVc',\n",
              " '/content/NEKOa']"
            ]
          },
          "metadata": {},
          "execution_count": 83
        }
      ],
      "source": [
        "path_sets = [root + '/' + x for x in working_list]\n",
        "path_sets"
      ]
    },
    {
      "cell_type": "code",
      "execution_count": 84,
      "metadata": {
        "colab": {
          "base_uri": "https://localhost:8080/"
        },
        "id": "h_vktQoaOxVU",
        "outputId": "4e1f7fed-a490-4868-9792-8847f1b796f4"
      },
      "outputs": [
        {
          "output_type": "stream",
          "name": "stdout",
          "text": [
            "Total images :  26242\n"
          ]
        }
      ],
      "source": [
        "img_paths = []\n",
        "\n",
        "for path in path_sets:\n",
        "    \n",
        "    for img_path in glob.glob(os.path.join(path, '*.JPG')):\n",
        "        \n",
        "        img_paths.append(str(img_path))\n",
        "        \n",
        "print(\"Total images : \", len(img_paths))"
      ]
    },
    {
      "cell_type": "code",
      "execution_count": 87,
      "metadata": {
        "id": "SX5C5GKPOxVV"
      },
      "outputs": [],
      "source": [
        "def create_img(path):\n",
        "    #Function to load,normalize and return image \n",
        "    im = Image.open(path).convert('RGB')\n",
        "    im = im.resize((800, 600), Image.ANTIALIAS)\n",
        "\n",
        "    im = np.array(im)\n",
        "    \n",
        "    im = im/255.0\n",
        "    \n",
        "    im[:,:,0]=(im[:,:,0]-0.485)/0.229\n",
        "    im[:,:,1]=(im[:,:,1]-0.456)/0.224\n",
        "    im[:,:,2]=(im[:,:,2]-0.406)/0.225\n",
        "\n",
        "    # print(im.shape)\n",
        "    #im = np.expand_dims(im,axis  = 0)\n",
        "    return im\n",
        "\n",
        "def get_input(path):\n",
        "    path = path[0] \n",
        "    img = create_img(path)\n",
        "    return(img)\n",
        "    \n",
        "    \n",
        "    \n",
        "def get_output(path):\n",
        "    #import target\n",
        "    #resize target\n",
        "    \n",
        "    gt_file = h5py.File(path,'r')\n",
        "    \n",
        "    target = np.asarray(gt_file['density'])\n",
        "    \n",
        "    img = cv2.resize(target,(int(target.shape[1]/8),int(target.shape[0]/8)),interpolation = cv2.INTER_CUBIC)*64\n",
        "    \n",
        "    img = np.expand_dims(img, axis=img.ndim)\n",
        "    \n",
        "    # print(img.shape)\n",
        "    \n",
        "    return img\n",
        "    \n",
        "    \n",
        "    \n",
        "def preprocess_input(image,target):\n",
        "    #crop image\n",
        "    #crop target\n",
        "    #resize target\n",
        "    crop_size = (int(image.shape[0]/2),int(image.shape[1]/2))\n",
        "    \n",
        "    \n",
        "    if random.randint(0,9)<= -1:            \n",
        "            dx = int(random.randint(0,1)*image.shape[0]*1./2)\n",
        "            dy = int(random.randint(0,1)*image.shape[1]*1./2)\n",
        "    else:\n",
        "            dx = int(random.random()*image.shape[0]*1./2)\n",
        "            dy = int(random.random()*image.shape[1]*1./2)\n",
        "\n",
        "    #print(crop_size , dx , dy)\n",
        "    img = image[dx : crop_size[0]+dx , dy:crop_size[1]+dy]\n",
        "    \n",
        "    target_aug = target[dx:crop_size[0]+dx,dy:crop_size[1]+dy]\n",
        "    #print(img.shape)\n",
        "\n",
        "    return(img,target_aug)\n",
        "    \n",
        "   "
      ]
    },
    {
      "cell_type": "code",
      "execution_count": 88,
      "metadata": {
        "id": "VO3yxlu4OxVW"
      },
      "outputs": [],
      "source": [
        "#Image data generator \n",
        "def image_generator(files, batch_size = 64):\n",
        "    \n",
        "    while True:\n",
        "        \n",
        "        input_path = np.random.choice(a = files, size = batch_size)\n",
        "        \n",
        "        batch_input = []\n",
        "        batch_output = [] \n",
        "          \n",
        "        #for input_path in batch_paths:\n",
        "        \n",
        "        inputt = get_input(input_path )\n",
        "        out_path = '/content' + input_path[0][:14] + '_gt' + input_path[0][14:].replace('.JPG','_gt.h5')\n",
        "        if not os.path.exists(out_path):\n",
        "            continue\n",
        "        output = get_output(out_path)\n",
        "            \n",
        "       \n",
        "        batch_input += [inputt]\n",
        "        batch_output += [output]\n",
        "    \n",
        "\n",
        "        batch_x = np.array( batch_input )\n",
        "        batch_y = np.array( batch_output )\n",
        "        \n",
        "        yield( batch_x, batch_y )\n"
      ]
    },
    {
      "cell_type": "code",
      "execution_count": 89,
      "metadata": {
        "id": "y0995fZYOxVW"
      },
      "outputs": [],
      "source": [
        "def save_mod(model , str1 , str2):\n",
        "    model.save_weights(str1)\n",
        "    \n",
        "    model_json = model.to_json()\n",
        "    \n",
        "    with open(str2, \"w\") as json_file:\n",
        "        json_file.write(model_json)"
      ]
    },
    {
      "cell_type": "code",
      "execution_count": 90,
      "metadata": {
        "id": "o8XW1eTQOxVX"
      },
      "outputs": [],
      "source": [
        "def init_weights_vgg(model):\n",
        "    vgg =  VGG16(weights='imagenet', include_top=False)\n",
        "    \n",
        "    # json_file = open('models/VGG_16.json', 'r')\n",
        "    # loaded_model_json = json_file.read()\n",
        "    # json_file.close()\n",
        "    # loaded_model = model_from_json(loaded_model_json)\n",
        "    # loaded_model.load_weights(\"weights/VGG_16.h5\")\n",
        "    \n",
        "    # vgg = loaded_model\n",
        "    \n",
        "    vgg_weights=[]                         \n",
        "    for layer in vgg.layers:\n",
        "        if('conv' in layer.name):\n",
        "            vgg_weights.append(layer.get_weights())\n",
        "    \n",
        "    \n",
        "    offset=0\n",
        "    i=0\n",
        "    while(i<10):\n",
        "        if('conv' in model.layers[i+offset].name):\n",
        "            model.layers[i+offset].set_weights(vgg_weights[i])\n",
        "            i=i+1\n",
        "            #print('h')\n",
        "            \n",
        "        else:\n",
        "            offset=offset+1\n",
        "\n",
        "    return (model)\n",
        "    "
      ]
    },
    {
      "cell_type": "code",
      "execution_count": 91,
      "metadata": {
        "id": "ivwi0oqeOxVX"
      },
      "outputs": [],
      "source": [
        "def euclidean_distance_loss(y_true, y_pred):\n",
        "    # Euclidean distance as a measure of loss (Loss function) \n",
        "    return K.sqrt(K.sum(K.square(y_pred - y_true), axis=-1))\n"
      ]
    },
    {
      "cell_type": "code",
      "execution_count": 92,
      "metadata": {
        "id": "4RgHCO9DOxVY"
      },
      "outputs": [],
      "source": [
        "# Neural network model : VGG + Conv\n",
        "def CrowdNet():  \n",
        "            #Variable Input Size\n",
        "            rows = 600\n",
        "            cols = 800\n",
        "            \n",
        "            #Batch Normalisation option\n",
        "            \n",
        "            batch_norm = 0\n",
        "            kernel = (3, 3)\n",
        "            init = RandomNormal(stddev=0.01)\n",
        "            model = Sequential() \n",
        "            \n",
        "            #custom VGG:\n",
        "            \n",
        "            if(batch_norm):\n",
        "                model.add(Conv2D(64, kernel_size = kernel, input_shape = (rows,cols,3),activation = 'relu', padding='same'))\n",
        "                model.add(BatchNormalization())\n",
        "                model.add(Conv2D(64, kernel_size = kernel,activation = 'relu', padding='same'))\n",
        "                model.add(BatchNormalization())\n",
        "                model.add(MaxPooling2D(strides=2))\n",
        "                model.add(Conv2D(128,kernel_size = kernel, activation = 'relu', padding='same'))\n",
        "                model.add(BatchNormalization())\n",
        "                model.add(Conv2D(128,kernel_size = kernel, activation = 'relu', padding='same'))\n",
        "                model.add(BatchNormalization())\n",
        "                model.add(MaxPooling2D(strides=2))\n",
        "                model.add(Conv2D(256,kernel_size = kernel, activation = 'relu', padding='same'))\n",
        "                model.add(BatchNormalization())\n",
        "                model.add(Conv2D(256,kernel_size = kernel, activation = 'relu', padding='same'))\n",
        "                model.add(BatchNormalization())\n",
        "                model.add(Conv2D(256,kernel_size = kernel, activation = 'relu', padding='same'))\n",
        "                model.add(BatchNormalization())\n",
        "                model.add(MaxPooling2D(strides=2))            \n",
        "                model.add(Conv2D(512, kernel_size = kernel,activation = 'relu', padding='same'))\n",
        "                model.add(BatchNormalization())\n",
        "                model.add(Conv2D(512, kernel_size = kernel,activation = 'relu', padding='same'))\n",
        "                model.add(BatchNormalization())\n",
        "                model.add(Conv2D(512, kernel_size = kernel,activation = 'relu', padding='same'))\n",
        "                model.add(BatchNormalization())\n",
        "                \n",
        "            else:\n",
        "                model.add(Conv2D(64, kernel_size = kernel,activation = 'relu', padding='same',input_shape = (rows, cols, 3), kernel_initializer = init))\n",
        "                model.add(Conv2D(64, kernel_size = kernel,activation = 'relu', padding='same', kernel_initializer = init))\n",
        "                model.add(MaxPooling2D(strides=2))\n",
        "                model.add(Conv2D(128,kernel_size = kernel, activation = 'relu', padding='same', kernel_initializer = init))\n",
        "                model.add(Conv2D(128,kernel_size = kernel, activation = 'relu', padding='same', kernel_initializer = init))\n",
        "                model.add(MaxPooling2D(strides=2))\n",
        "                model.add(Conv2D(256,kernel_size = kernel, activation = 'relu', padding='same', kernel_initializer = init))\n",
        "                model.add(Conv2D(256,kernel_size = kernel, activation = 'relu', padding='same', kernel_initializer = init))\n",
        "                model.add(Conv2D(256,kernel_size = kernel, activation = 'relu', padding='same', kernel_initializer = init))\n",
        "                model.add(MaxPooling2D(strides=2))            \n",
        "                model.add(Conv2D(512, kernel_size = kernel,activation = 'relu', padding='same', kernel_initializer = init))\n",
        "                model.add(Conv2D(512, kernel_size = kernel,activation = 'relu', padding='same', kernel_initializer = init))\n",
        "                model.add(Conv2D(512, kernel_size = kernel,activation = 'relu', padding='same', kernel_initializer = init))\n",
        "                \n",
        "                \n",
        "\n",
        "                \n",
        "            #Conv2D\n",
        "            model.add(Conv2D(512, (3, 3), activation='relu', dilation_rate = 2, kernel_initializer = init, padding = 'same'))\n",
        "            model.add(Conv2D(512, (3, 3), activation='relu', dilation_rate = 2, kernel_initializer = init, padding = 'same'))\n",
        "            model.add(Conv2D(512, (3, 3), activation='relu', dilation_rate = 2, kernel_initializer = init, padding = 'same'))\n",
        "            model.add(Conv2D(256, (3, 3), activation='relu', dilation_rate = 2, kernel_initializer = init, padding = 'same'))\n",
        "            model.add(Conv2D(128, (3, 3), activation='relu', dilation_rate = 2, kernel_initializer = init, padding = 'same'))\n",
        "            model.add(Conv2D(64, (3, 3), activation='relu', dilation_rate = 2, kernel_initializer = init, padding = 'same'))\n",
        "            model.add(Conv2D(1, (1, 1), activation='relu', dilation_rate = 1, kernel_initializer = init, padding = 'same'))\n",
        "        \n",
        "            sgd = SGD(lr = 1e-7, decay = (5*1e-4), momentum = 0.95)\n",
        "            model.compile(optimizer=sgd, loss=euclidean_distance_loss, metrics=['mse'])\n",
        "            \n",
        "            model = init_weights_vgg(model)\n",
        "            \n",
        "            return model"
      ]
    },
    {
      "cell_type": "code",
      "execution_count": 93,
      "metadata": {
        "id": "eKYkdZdWOxVZ",
        "colab": {
          "base_uri": "https://localhost:8080/"
        },
        "outputId": "385da833-4378-4b37-a5f4-1085528e4da4"
      },
      "outputs": [
        {
          "output_type": "stream",
          "name": "stderr",
          "text": [
            "/usr/local/lib/python3.7/dist-packages/keras/optimizer_v2/gradient_descent.py:102: UserWarning: The `lr` argument is deprecated, use `learning_rate` instead.\n",
            "  super(SGD, self).__init__(name, **kwargs)\n"
          ]
        }
      ],
      "source": [
        "model = CrowdNet()"
      ]
    },
    {
      "cell_type": "code",
      "execution_count": 94,
      "metadata": {
        "id": "CmeXV9jbOxVZ",
        "outputId": "4592f4e4-317c-4342-8dab-68743c22ee28",
        "colab": {
          "base_uri": "https://localhost:8080/"
        }
      },
      "outputs": [
        {
          "output_type": "stream",
          "name": "stdout",
          "text": [
            "Model: \"sequential\"\n",
            "_________________________________________________________________\n",
            " Layer (type)                Output Shape              Param #   \n",
            "=================================================================\n",
            " conv2d (Conv2D)             (None, 600, 800, 64)      1792      \n",
            "                                                                 \n",
            " conv2d_1 (Conv2D)           (None, 600, 800, 64)      36928     \n",
            "                                                                 \n",
            " max_pooling2d (MaxPooling2D  (None, 300, 400, 64)     0         \n",
            " )                                                               \n",
            "                                                                 \n",
            " conv2d_2 (Conv2D)           (None, 300, 400, 128)     73856     \n",
            "                                                                 \n",
            " conv2d_3 (Conv2D)           (None, 300, 400, 128)     147584    \n",
            "                                                                 \n",
            " max_pooling2d_1 (MaxPooling  (None, 150, 200, 128)    0         \n",
            " 2D)                                                             \n",
            "                                                                 \n",
            " conv2d_4 (Conv2D)           (None, 150, 200, 256)     295168    \n",
            "                                                                 \n",
            " conv2d_5 (Conv2D)           (None, 150, 200, 256)     590080    \n",
            "                                                                 \n",
            " conv2d_6 (Conv2D)           (None, 150, 200, 256)     590080    \n",
            "                                                                 \n",
            " max_pooling2d_2 (MaxPooling  (None, 75, 100, 256)     0         \n",
            " 2D)                                                             \n",
            "                                                                 \n",
            " conv2d_7 (Conv2D)           (None, 75, 100, 512)      1180160   \n",
            "                                                                 \n",
            " conv2d_8 (Conv2D)           (None, 75, 100, 512)      2359808   \n",
            "                                                                 \n",
            " conv2d_9 (Conv2D)           (None, 75, 100, 512)      2359808   \n",
            "                                                                 \n",
            " conv2d_10 (Conv2D)          (None, 75, 100, 512)      2359808   \n",
            "                                                                 \n",
            " conv2d_11 (Conv2D)          (None, 75, 100, 512)      2359808   \n",
            "                                                                 \n",
            " conv2d_12 (Conv2D)          (None, 75, 100, 512)      2359808   \n",
            "                                                                 \n",
            " conv2d_13 (Conv2D)          (None, 75, 100, 256)      1179904   \n",
            "                                                                 \n",
            " conv2d_14 (Conv2D)          (None, 75, 100, 128)      295040    \n",
            "                                                                 \n",
            " conv2d_15 (Conv2D)          (None, 75, 100, 64)       73792     \n",
            "                                                                 \n",
            " conv2d_16 (Conv2D)          (None, 75, 100, 1)        65        \n",
            "                                                                 \n",
            "=================================================================\n",
            "Total params: 16,263,489\n",
            "Trainable params: 16,263,489\n",
            "Non-trainable params: 0\n",
            "_________________________________________________________________\n"
          ]
        }
      ],
      "source": [
        "model.summary()"
      ]
    },
    {
      "cell_type": "code",
      "execution_count": 95,
      "metadata": {
        "id": "Q-_TgSohOxVZ"
      },
      "outputs": [],
      "source": [
        "train_gen = image_generator(img_paths)"
      ]
    },
    {
      "cell_type": "code",
      "execution_count": 96,
      "metadata": {
        "id": "W_LmhtF-OxVa",
        "colab": {
          "base_uri": "https://localhost:8080/"
        },
        "outputId": "ed452ed6-b661-4957-e6f9-d4ade403a40d"
      },
      "outputs": [
        {
          "output_type": "stream",
          "name": "stderr",
          "text": [
            "/usr/local/lib/python3.7/dist-packages/keras/optimizer_v2/gradient_descent.py:102: UserWarning: The `lr` argument is deprecated, use `learning_rate` instead.\n",
            "  super(SGD, self).__init__(name, **kwargs)\n"
          ]
        }
      ],
      "source": [
        "sgd = SGD(lr = 1e-7, decay = (5*1e-4), momentum = 0.95)\n",
        "model.compile(optimizer=sgd, loss=euclidean_distance_loss, metrics=['mse'])"
      ]
    },
    {
      "cell_type": "code",
      "execution_count": null,
      "metadata": {
        "scrolled": true,
        "id": "bGq2fKUjOxVa",
        "outputId": "b58f015d-6cac-4c42-83d0-67ad1ce9e51d",
        "colab": {
          "base_uri": "https://localhost:8080/"
        }
      },
      "outputs": [
        {
          "output_type": "stream",
          "name": "stdout",
          "text": [
            "(600, 800, 3)\n",
            "(75, 100, 1)\n",
            "Epoch 1/15\n",
            "(600, 800, 3)\n",
            "(600, 800, 3)\n",
            "(75, 100, 1)\n",
            "  1/700 [..............................] - ETA: 4:45:20 - loss: 0.0063 - mse: 0.0022(600, 800, 3)\n",
            "(75, 100, 1)\n",
            "  2/700 [..............................] - ETA: 4:17:53 - loss: 0.0032 - mse: 0.0011(600, 800, 3)\n",
            "(75, 100, 1)\n",
            "  3/700 [..............................] - ETA: 4:16:29 - loss: nan - mse: nan      (600, 800, 3)\n",
            "(75, 100, 1)\n",
            "  4/700 [..............................] - ETA: 4:13:24 - loss: nan - mse: nan(600, 800, 3)\n",
            "(75, 100, 1)\n",
            "  5/700 [..............................] - ETA: 4:10:43 - loss: nan - mse: nan(600, 800, 3)\n",
            "(75, 100, 1)\n"
          ]
        }
      ],
      "source": [
        "model.fit(train_gen, epochs=15, steps_per_epoch=700 , verbose=1)"
      ]
    },
    {
      "cell_type": "code",
      "execution_count": null,
      "metadata": {
        "id": "73sJLOJaOxVa"
      },
      "outputs": [],
      "source": [
        "save_mod(model,\"weights/model_A_weights.h5\",\"models/Model.json\")"
      ]
    }
  ],
  "metadata": {
    "kernelspec": {
      "display_name": "Python 3",
      "language": "python",
      "name": "python3"
    },
    "language_info": {
      "codemirror_mode": {
        "name": "ipython",
        "version": 3
      },
      "file_extension": ".py",
      "mimetype": "text/x-python",
      "name": "python",
      "nbconvert_exporter": "python",
      "pygments_lexer": "ipython3",
      "version": "3.5.5"
    },
    "colab": {
      "name": "Model.ipynb",
      "provenance": [],
      "collapsed_sections": [],
      "include_colab_link": true
    }
  },
  "nbformat": 4,
  "nbformat_minor": 0
}