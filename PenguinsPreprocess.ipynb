{
  "nbformat": 4,
  "nbformat_minor": 0,
  "metadata": {
    "colab": {
      "name": "PenguinsPreprocess.ipynb",
      "provenance": [],
      "collapsed_sections": [],
      "include_colab_link": true
    },
    "kernelspec": {
      "name": "python3",
      "display_name": "Python 3"
    },
    "language_info": {
      "name": "python"
    }
  },
  "cells": [
    {
      "cell_type": "markdown",
      "metadata": {
        "id": "view-in-github",
        "colab_type": "text"
      },
      "source": [
        "<a href=\"https://colab.research.google.com/github/alexjochs/ECE_539_Penguins/blob/preprocess/PenguinsPreprocess.ipynb\" target=\"_parent\"><img src=\"https://colab.research.google.com/assets/colab-badge.svg\" alt=\"Open In Colab\"/></a>"
      ]
    },
    {
      "cell_type": "code",
      "source": [
        "from google.colab import drive\n",
        "\n",
        "# Alex\n",
        "# drive.mount('/content/gdrive')\n",
        "# gdrive_data_filepath = r\"/content/gdrive/MyDrive/'Penguin_counting'/data_peng_watch\"\n",
        "# Oscar\n",
        "drive.mount('/content/drive')\n",
        "gdrive_data_filepath = r'/content/drive/MyDrive/Colab\\ Notebooks/539\\ Project/data'"
      ],
      "metadata": {
        "id": "zjyEyhfEEczD",
        "outputId": "431c2684-4f48-49e4-e5db-2f0dfd417c0e",
        "colab": {
          "base_uri": "https://localhost:8080/"
        }
      },
      "execution_count": 40,
      "outputs": [
        {
          "output_type": "stream",
          "name": "stdout",
          "text": [
            "Drive already mounted at /content/drive; to attempt to forcibly remount, call drive.mount(\"/content/drive\", force_remount=True).\n"
          ]
        }
      ]
    },
    {
      "cell_type": "code",
      "execution_count": 41,
      "metadata": {
        "id": "YsV513awVrjd"
      },
      "outputs": [],
      "source": [
        "import os\n",
        "import pandas as pd\n",
        "import json\n",
        "import numpy as np\n",
        "from tqdm import tqdm\n",
        "from matplotlib import image\n",
        "from matplotlib import pyplot as plt\n",
        "from scipy.ndimage.filters import gaussian_filter \n",
        "import scipy\n",
        "from scipy.spatial import KDTree\n",
        "import h5py\n",
        "import time\n",
        "from PIL import Image\n",
        "import glob\n",
        "import math"
      ]
    },
    {
      "cell_type": "code",
      "source": [
        "MASTER_LIST = ['BAILa', 'DAMOa', 'HALFb', 'HALFc', 'LOCKb', 'MAIVb', 'MAIVc', 'NEKOa', 'NEKOb', 'NEKOc', 'PETEc', 'PETEd', 'PETEf', 'SPIGa', 'GEORa']\n",
        "VM_ROOT = r'/content'\n",
        "cwd = None\n",
        "def get_new_batch(target=None):\n",
        "    assert target is not None, f\"can't get specific folder: {target} and load all data\"\n",
        "    tgz_name = target + '.tgz'\n",
        "    folder_path = os.path.join(gdrive_data_filepath, tgz_name)\n",
        "    !tar --gunzip --extract --file={folder_path} --directory {VM_ROOT}\n",
        "    cwd = os.path.join(VM_ROOT, target)\n",
        "\n",
        "def save_batch_to_drive(target=None):\n",
        "    # take working files, save them back to Gdrive\n",
        "    assert target is not None, f\"can't get specific folder: {target} and load all data\"\n",
        "    tgz_name = target + '.tgz'\n",
        "    folder_path = os.path.join(VM_ROOT, target)\n",
        "    os.chdir('/content/drive/MyDrive/Colab Notebooks/539 Project/data')\n",
        "    !tar -czvf {tgz_name} -P {folder_path}"
      ],
      "metadata": {
        "id": "i-WUgAd0WF7v"
      },
      "execution_count": 69,
      "outputs": []
    },
    {
      "cell_type": "code",
      "source": [
        "annotations_path = VM_ROOT + r'/CompleteAnnotations_2016-07-11'\n",
        "\n",
        "def run_all():\n",
        "    json_filepath_list = get_json_files_from_folder()\n",
        "    for filepath in json_filepath_list:\n",
        "        df = run(filepath_=filepath)\n",
        "        save_df_as_json(df)\n",
        "\n",
        "def run(filepath_=None, target=None):\n",
        "    if target is not None:\n",
        "        filepath_ = annotations_path + r'/' + target + '.json'\n",
        "    data_group_name = filepath_[-10:-5]\n",
        "    df = load_json_as_df(filepath_)\n",
        "    df.loc[df.xy.isnull(), 'xy'] = [[]]\n",
        "    # have to check if inner list has na values as well :/\n",
        "    df_xy_ = to_1D(df['xy'])\n",
        "    if df_xy_.isna().sum() > 0:\n",
        "        df_xy_na_mask = df_xy_.isna()\n",
        "        df.loc[df_xy_na_mask, 'xy'] = [[]]\n",
        "    return df\n",
        "\n",
        "def save_df_as_json(df):\n",
        "    data_group_filename = df['imName'].iloc[0][:5] + '.json'\n",
        "    try:\n",
        "        os.mkdir('/content/annotations')\n",
        "    except FileExistsError as e:\n",
        "        print('looks like local annotations folder already exists!')\n",
        "    print(data_group_filename)\n",
        "    with open(os.path.join('/content/annotations', data_group_filename), 'w') as json_file:\n",
        "        json.dump(json.loads(df.to_json(orient='records')), json_file)\n",
        "\n",
        "def get_json_files_from_folder():\n",
        "    json_filepath_list = []\n",
        "    for filename in os.listdir(annotations_path):\n",
        "        f = os.path.join(annotations_path, filename)\n",
        "        if os.path.isfile(f):\n",
        "            file_extension = os.path.splitext(f)[1]\n",
        "        if file_extension == '.json':\n",
        "            json_filepath_list.append(f)\n",
        "    return json_filepath_list\n",
        "\n",
        "def load_json_as_df(filepath):\n",
        "    with open(filepath,'r') as json_file:\n",
        "        json_data = json.loads(json_file.read())\n",
        "    return pd.json_normalize(json_data, record_path =['dots'])\n",
        "\n",
        "def to_1D(series):\n",
        "    return pd.Series([x for _list in series for x in _list])"
      ],
      "metadata": {
        "id": "OW-k_xXHWiZc"
      },
      "execution_count": 4,
      "outputs": []
    },
    {
      "cell_type": "code",
      "source": [
        "# dots: 2d list of xy dots from users\n",
        "# return longest (ie most penguins clicked) 1d list\n",
        "def get_longest_dot_list(dots):\n",
        "    if len(dots) == 0:\n",
        "        return []\n",
        "    if not type(dots[0]) == type([]):\n",
        "        return []\n",
        "    idx = 0\n",
        "    if len(dots) > 1:\n",
        "        for i, x in enumerate(dots):\n",
        "            if len(x) > len(dots[idx]):\n",
        "                idx = i\n",
        "    return dots[idx]\n",
        "\n",
        "# One hot encoding of user clicks\n",
        "def make_sparse_mat(img_shape, dots):\n",
        "    mat = np.zeros((img_shape[0], img_shape[1]))\n",
        "    for dot in dots:\n",
        "        mat[dot[1], dot[0]] = 1\n",
        "\n",
        "    return mat\n",
        "\n",
        "def gaussian_filter_density(gt):\n",
        "    #Generates a density map using Gaussian filter transformation\n",
        "    \n",
        "    density = np.zeros(gt.shape, dtype=np.float32)\n",
        "    \n",
        "    gt_count = np.count_nonzero(gt)\n",
        "    \n",
        "    if gt_count == 0:\n",
        "        return density\n",
        "\n",
        "    # FInd out the K nearest neighbours using a KDTree\n",
        "    \n",
        "    pts = np.array(list(zip(np.nonzero(gt)[1].ravel(), np.nonzero(gt)[0].ravel())))\n",
        "    leafsize = 2048\n",
        "    \n",
        "    # build kdtree\n",
        "    tree = scipy.spatial.KDTree(pts.copy(), leafsize=leafsize)\n",
        "    \n",
        "    # query kdtree\n",
        "    distances, locations = tree.query(pts, k=4)\n",
        "\n",
        "        \n",
        "    for i, pt in enumerate(pts):\n",
        "        pt2d = np.zeros(gt.shape, dtype=np.float32)\n",
        "        pt2d[pt[1],pt[0]] = 1.\n",
        "        if gt_count > 1:\n",
        "            sigma = (distances[i][1]+distances[i][2]+distances[i][3])*0.1\n",
        "        else:\n",
        "            sigma = np.average(np.array(gt.shape))/2./2. #case: 1 point\n",
        "        \n",
        "        #Convolve with the gaussian filter\n",
        "        \n",
        "        # density += scipy.ndimage.filters.gaussian_filter(pt2d, sigma, mode='constant')\n",
        "        input_ = np.fft.fft2(pt2d)\n",
        "        result = scipy.ndimage.fourier_gaussian(input_, sigma)\n",
        "        density = np.add(density, np.fft.ifft2(result).real, casting=\"unsafe\")\n",
        "    \n",
        "    return density"
      ],
      "metadata": {
        "id": "kQuIbI08WsIb"
      },
      "execution_count": 5,
      "outputs": []
    },
    {
      "cell_type": "code",
      "source": [
        "\n",
        "df = run(target='BAILa')\n",
        "print(df)"
      ],
      "metadata": {
        "colab": {
          "base_uri": "https://localhost:8080/"
        },
        "id": "-KMpCNagXx_F",
        "outputId": "b76e9062-9738-4bfc-83c7-76397436bf6e"
      },
      "execution_count": null,
      "outputs": [
        {
          "output_type": "stream",
          "name": "stdout",
          "text": [
            "                 imName                                                 xy\n",
            "0     BAILa2014a_000001  [[[350, 1455], [849, 1327], [1129, 1042], [73,...\n",
            "1     BAILa2014a_000002                                                 []\n",
            "2     BAILa2014a_000003  [[[48, 293], [62, 293], [46, 319], [71, 314], ...\n",
            "3     BAILa2014a_000004  [[[1340, 1140], [914, 1335], [192, 1162], [35,...\n",
            "4     BAILa2014a_000005  [[[1022, 1309], [161, 1167], [23, 875], [530, ...\n",
            "...                 ...                                                ...\n",
            "5208  BAILa2014a_005209                                                 []\n",
            "5209  BAILa2014a_005210                                                 []\n",
            "5210  BAILa2014a_005211                                            [_NaN_]\n",
            "5211  BAILa2014a_005212                                            [_NaN_]\n",
            "5212  BAILa2014a_005213                                                 []\n",
            "\n",
            "[5213 rows x 2 columns]\n"
          ]
        }
      ]
    },
    {
      "cell_type": "code",
      "source": [
        "os.chdir(VM_ROOT + '/BAILa') # TODO\n",
        "for i, row in df.iterrows():\n",
        "    img_name = row['imName']\n",
        "    img_dots = row['xy']\n",
        "    img = image.imread(os.path.join('/content/BAILa', row['imName']) + '.JPG') # TODO\n",
        "\n",
        "    dots = get_longest_dot_list(img_dots)\n",
        "    k = make_sparse_mat(img.shape, dots)\n",
        "    start_time = time.time()\n",
        "    k = gaussian_filter_density(k)\n",
        "    print(f\"--- {(time.time() - start_time)} seconds ---\")\n",
        "\n",
        "    break\n",
        "\n",
        "    with h5py.File(img_name+'_gt.h5', 'w') as f:\n",
        "        f['density'] = k"
      ],
      "metadata": {
        "colab": {
          "base_uri": "https://localhost:8080/",
          "height": 356
        },
        "id": "moJHAA6LYDn1",
        "outputId": "7371782f-fa72-4d99-8ea6-74aca55bdbb4"
      },
      "execution_count": null,
      "outputs": [
        {
          "output_type": "error",
          "ename": "KeyboardInterrupt",
          "evalue": "ignored",
          "traceback": [
            "\u001b[0;31m---------------------------------------------------------------------------\u001b[0m",
            "\u001b[0;31mKeyboardInterrupt\u001b[0m                         Traceback (most recent call last)",
            "\u001b[0;32m<ipython-input-14-3142fa8f82df>\u001b[0m in \u001b[0;36m<module>\u001b[0;34m()\u001b[0m\n\u001b[1;32m      8\u001b[0m     \u001b[0mk\u001b[0m \u001b[0;34m=\u001b[0m \u001b[0mmake_sparse_mat\u001b[0m\u001b[0;34m(\u001b[0m\u001b[0mimg\u001b[0m\u001b[0;34m.\u001b[0m\u001b[0mshape\u001b[0m\u001b[0;34m,\u001b[0m \u001b[0mdots\u001b[0m\u001b[0;34m)\u001b[0m\u001b[0;34m\u001b[0m\u001b[0;34m\u001b[0m\u001b[0m\n\u001b[1;32m      9\u001b[0m     \u001b[0mstart_time\u001b[0m \u001b[0;34m=\u001b[0m \u001b[0mtime\u001b[0m\u001b[0;34m.\u001b[0m\u001b[0mtime\u001b[0m\u001b[0;34m(\u001b[0m\u001b[0;34m)\u001b[0m\u001b[0;34m\u001b[0m\u001b[0;34m\u001b[0m\u001b[0m\n\u001b[0;32m---> 10\u001b[0;31m     \u001b[0mk\u001b[0m \u001b[0;34m=\u001b[0m \u001b[0mgaussian_filter_density\u001b[0m\u001b[0;34m(\u001b[0m\u001b[0mk\u001b[0m\u001b[0;34m)\u001b[0m\u001b[0;34m\u001b[0m\u001b[0;34m\u001b[0m\u001b[0m\n\u001b[0m\u001b[1;32m     11\u001b[0m     \u001b[0mprint\u001b[0m\u001b[0;34m(\u001b[0m\u001b[0;34mf\"--- {(time.time() - start_time)} seconds ---\"\u001b[0m\u001b[0;34m)\u001b[0m\u001b[0;34m\u001b[0m\u001b[0;34m\u001b[0m\u001b[0m\n\u001b[1;32m     12\u001b[0m \u001b[0;34m\u001b[0m\u001b[0m\n",
            "\u001b[0;32m<ipython-input-5-3de5a949ec6d>\u001b[0m in \u001b[0;36mgaussian_filter_density\u001b[0;34m(gt)\u001b[0m\n\u001b[1;32m     56\u001b[0m         \u001b[0minput_\u001b[0m \u001b[0;34m=\u001b[0m \u001b[0mnp\u001b[0m\u001b[0;34m.\u001b[0m\u001b[0mfft\u001b[0m\u001b[0;34m.\u001b[0m\u001b[0mfft2\u001b[0m\u001b[0;34m(\u001b[0m\u001b[0mpt2d\u001b[0m\u001b[0;34m)\u001b[0m\u001b[0;34m\u001b[0m\u001b[0;34m\u001b[0m\u001b[0m\n\u001b[1;32m     57\u001b[0m         \u001b[0mresult\u001b[0m \u001b[0;34m=\u001b[0m \u001b[0mscipy\u001b[0m\u001b[0;34m.\u001b[0m\u001b[0mndimage\u001b[0m\u001b[0;34m.\u001b[0m\u001b[0mfourier_gaussian\u001b[0m\u001b[0;34m(\u001b[0m\u001b[0minput_\u001b[0m\u001b[0;34m,\u001b[0m \u001b[0msigma\u001b[0m\u001b[0;34m)\u001b[0m\u001b[0;34m\u001b[0m\u001b[0;34m\u001b[0m\u001b[0m\n\u001b[0;32m---> 58\u001b[0;31m         \u001b[0mdensity\u001b[0m \u001b[0;34m=\u001b[0m \u001b[0mnp\u001b[0m\u001b[0;34m.\u001b[0m\u001b[0madd\u001b[0m\u001b[0;34m(\u001b[0m\u001b[0mdensity\u001b[0m\u001b[0;34m,\u001b[0m \u001b[0mnp\u001b[0m\u001b[0;34m.\u001b[0m\u001b[0mfft\u001b[0m\u001b[0;34m.\u001b[0m\u001b[0mifft2\u001b[0m\u001b[0;34m(\u001b[0m\u001b[0mresult\u001b[0m\u001b[0;34m)\u001b[0m\u001b[0;34m.\u001b[0m\u001b[0mreal\u001b[0m\u001b[0;34m,\u001b[0m \u001b[0mcasting\u001b[0m\u001b[0;34m=\u001b[0m\u001b[0;34m\"unsafe\"\u001b[0m\u001b[0;34m)\u001b[0m\u001b[0;34m\u001b[0m\u001b[0;34m\u001b[0m\u001b[0m\n\u001b[0m\u001b[1;32m     59\u001b[0m \u001b[0;34m\u001b[0m\u001b[0m\n\u001b[1;32m     60\u001b[0m     \u001b[0;32mreturn\u001b[0m \u001b[0mdensity\u001b[0m\u001b[0;34m\u001b[0m\u001b[0;34m\u001b[0m\u001b[0m\n",
            "\u001b[0;31mKeyboardInterrupt\u001b[0m: "
          ]
        }
      ]
    },
    {
      "cell_type": "markdown",
      "source": [
        "some ideas to improve speed:  \n",
        "- load all images into memory\n",
        "- downsample images to input size\n",
        "- - w/ fft, down to 4 sec!\n",
        "- use mutiprocessing to speed up execution\n",
        "- use fft instead of gaussian filter?\n",
        "- - It works! down to 35 sec per image"
      ],
      "metadata": {
        "id": "N7JSbZh4Cv0j"
      }
    },
    {
      "cell_type": "code",
      "source": [
        "plt.imshow(k)"
      ],
      "metadata": {
        "id": "_nMiYLhACvDI",
        "outputId": "855948e7-d4db-4f3a-bd35-4790189ebc1e",
        "colab": {
          "base_uri": "https://localhost:8080/",
          "height": 286
        }
      },
      "execution_count": null,
      "outputs": [
        {
          "output_type": "execute_result",
          "data": {
            "text/plain": [
              "<matplotlib.image.AxesImage at 0x7fe82fe30b90>"
            ]
          },
          "metadata": {},
          "execution_count": 37
        },
        {
          "output_type": "display_data",
          "data": {
            "text/plain": [
              "<Figure size 432x288 with 1 Axes>"
            ],
            "image/png": "[encoded data removed]"
          },
          "metadata": {
            "needs_background": "light"
          }
        }
      ]
    },
    {
      "cell_type": "code",
      "source": [
        "original_img_dim = {'BAILa': (2048, 1536), 'DAMOa': (2048, 1536), 'HALFb': (2048, 1536), 'HALFc': (1920, 1080), 'LOCKb': (1920, 1080), 'MAIVb': (2048, 1536), 'MAIVc': (2048, 1536), 'NEKOa': (1920, 1080), 'NEKOb': (2048, 1536), 'NEKOc': (2048, 1536), 'PETEc': (2048, 1536), 'PETEd': (2048, 1536), 'PETEf': (2048, 1536), 'SPIGa': (1920, 1080), 'GEORa': (2048, 1536)}\n",
        "def downsample_dots(dots, img_shape):\n",
        "    \"\"\"convert xy coords of annotations down to 600x800 img space\"\"\"\n",
        "    ds_dots = []\n",
        "    original_dim = original_img_dim[data_split_name] # TODO CHANGE TO IMAGE SIZE FROM PARAM\n",
        "    x_scaler = 800.0 / float(original_dim[0])\n",
        "    y_scaler = 600.0 / float(original_dim[1])\n",
        "    for dot in dots:\n",
        "        ds_dots.append([math.floor(dot[0] * x_scaler), math.floor(dot[1] * y_scaler)])\n",
        "        if math.floor(dot[0] * x_scaler) > 800 or math.floor(dot[1] * y_scaler) > 800:\n",
        "            print(dot, x_scaler, y_scaler, data_split_name)\n",
        "    return ds_dots"
      ],
      "metadata": {
        "id": "Ep8HyabeOX2a"
      },
      "execution_count": 73,
      "outputs": []
    },
    {
      "cell_type": "code",
      "source": [
        "# TODO LOAD ANNOTATIONS\n",
        "\n",
        "# slice working list to split workload between us\n",
        "working_list = MASTER_LIST[:]\n",
        "\n",
        "# load data in to VM HDD first\n",
        "for data_split_name in working_list:\n",
        "    get_new_batch(data_split_name)\n",
        "    break # TODO\n",
        "\n"
      ],
      "metadata": {
        "id": "WUNlf1L4mkTA",
        "colab": {
          "base_uri": "https://localhost:8080/"
        },
        "outputId": "eb80e8c8-6171-4574-e80b-b1a1749233a6"
      },
      "execution_count": 19,
      "outputs": [
        {
          "output_type": "stream",
          "name": "stdout",
          "text": [
            "^C\n"
          ]
        }
      ]
    },
    {
      "cell_type": "markdown",
      "source": [
        "Cell below loads image sizes into original image data dict, which is something like {'BAILa': (2048, 1536), 'DAMOa': (2048, 1536), 'HALFb': (2048, 1536), 'HALFc': (1920, 1080), etc..."
      ],
      "metadata": {
        "id": "GS7t8qWWuTnA"
      }
    },
    {
      "cell_type": "code",
      "source": [
        "original_img_dim = {}\n",
        "for data_split_name in working_list:\n",
        "    local_directory = os.path.join(VM_ROOT, data_split_name)\n",
        "    for filename in glob.glob(local_directory + '/*.' + 'JPG'): #assuming gif\n",
        "        im=Image.open(filename)\n",
        "        original_img_dim[data_split_name] = (im.size[0], im.size[1])\n",
        "        break"
      ],
      "metadata": {
        "id": "x40SzGTVoSJK"
      },
      "execution_count": 20,
      "outputs": []
    },
    {
      "cell_type": "markdown",
      "source": [
        "---\n",
        "The greatest of for loops:  \n",
        "- for every datasplit in the master list:\n",
        "    - get images for datasplit, load in to ram\n",
        "    - get annotations, store in a df\n",
        "    - get image size for that datasplit (each split is diff)\n",
        "    - for **every image in datasplit**:  \n",
        "        - downsample image to (600,800)\n",
        "        - downsample annotations\n",
        "        - get groundtruth of image via fft\n",
        "        - save downsampled image and downsampled groundtruth"
      ],
      "metadata": {
        "id": "6dY263MRlPt4"
      }
    },
    {
      "cell_type": "code",
      "source": [
        "original_img_dim"
      ],
      "metadata": {
        "id": "G8o91oDTuHtJ",
        "outputId": "0c7905db-079a-4db1-8bf6-24abfc1cbe81",
        "colab": {
          "base_uri": "https://localhost:8080/"
        }
      },
      "execution_count": 23,
      "outputs": [
        {
          "output_type": "execute_result",
          "data": {
            "text/plain": [
              "{'BAILa': (2048, 1536),\n",
              " 'DAMOa': (2048, 1536),\n",
              " 'GEORa': (2048, 1536),\n",
              " 'HALFb': (2048, 1536),\n",
              " 'HALFc': (1920, 1080),\n",
              " 'LOCKb': (1920, 1080),\n",
              " 'MAIVb': (2048, 1536),\n",
              " 'MAIVc': (2048, 1536),\n",
              " 'NEKOa': (1920, 1080),\n",
              " 'NEKOb': (2048, 1536),\n",
              " 'NEKOc': (2048, 1536),\n",
              " 'PETEc': (2048, 1536),\n",
              " 'PETEd': (2048, 1536),\n",
              " 'PETEf': (2048, 1536),\n",
              " 'SPIGa': (1920, 1080)}"
            ]
          },
          "metadata": {},
          "execution_count": 23
        }
      ]
    },
    {
      "cell_type": "code",
      "source": [
        "# get_new_batch('CompleteAnnotations_2016-07-11') TODO\n",
        "for data_split_name in working_list:\n",
        "    # Create split dir of ground truths\n",
        "    split_dir = os.path.join(VM_ROOT, data_split_name + '_gt')\n",
        "    os.mkdir(split_dir)\n",
        "    os.chdir(split_dir)\n",
        "\n",
        "    # Get annotations as DataFrame\n",
        "    df = run(target=data_split_name)\n",
        "\n",
        "    # Create heatmap for each image\n",
        "    for i, row in df.iterrows():\n",
        "        # downsample dots to new img size of 600,800\n",
        "        img_dots = row['xy']\n",
        "        dots = get_longest_dot_list(img_dots)\n",
        "        ds_dots = downsample_dots(dots, data_split_name)\n",
        "\n",
        "        # make gt heatmap\n",
        "        k_ds = make_sparse_mat((600, 800), ds_dots)\n",
        "        k_ds = gaussian_filter_density(k_ds)\n",
        "\n",
        "        # save file as an h5 type\n",
        "        with h5py.File(row['imName'] + '_gt.h5', 'w') as f:\n",
        "            f['density'] = k_ds\n",
        "\n",
        "        # TODO\n",
        "        if i > 10:\n",
        "            break\n",
        "\n",
        "    # Save ground truth zip\n",
        "    save_batch_to_drive(target=data_split_name + '_gt')"
      ],
      "metadata": {
        "id": "nJCyvwIQuP8Z",
        "colab": {
          "base_uri": "https://localhost:8080/",
          "height": 825
        },
        "outputId": "a57e738d-5846-41ea-b147-2908156ff238"
      },
      "execution_count": 77,
      "outputs": [
        {
          "output_type": "stream",
          "name": "stdout",
          "text": [
            "/content/BAILa_gt/\n",
            "/content/BAILa_gt/BAILa2014a_000007_gt.h5\n",
            "/content/BAILa_gt/BAILa2014a_000002_gt.h5\n",
            "/content/BAILa_gt/BAILa2014a_000001_gt.h5\n",
            "/content/BAILa_gt/BAILa2014a_000006_gt.h5\n",
            "/content/BAILa_gt/BAILa2014a_000009_gt.h5\n",
            "/content/BAILa_gt/BAILa2014a_000012_gt.h5\n",
            "/content/BAILa_gt/BAILa2014a_000003_gt.h5\n",
            "/content/BAILa_gt/BAILa2014a_000011_gt.h5\n",
            "/content/BAILa_gt/BAILa2014a_000004_gt.h5\n",
            "/content/BAILa_gt/BAILa2014a_000010_gt.h5\n",
            "/content/BAILa_gt/BAILa2014a_000005_gt.h5\n",
            "/content/BAILa_gt/BAILa2014a_000008_gt.h5\n",
            "/content/DAMOa_gt/\n",
            "/content/DAMOa_gt/DAMOa2014a_000003_gt.h5\n",
            "/content/DAMOa_gt/DAMOa2014a_000012_gt.h5\n",
            "/content/DAMOa_gt/DAMOa2014a_000005_gt.h5\n",
            "/content/DAMOa_gt/DAMOa2014a_000007_gt.h5\n",
            "/content/DAMOa_gt/DAMOa2014a_000001_gt.h5\n",
            "/content/DAMOa_gt/DAMOa2014a_000009_gt.h5\n",
            "/content/DAMOa_gt/DAMOa2014a_000006_gt.h5\n",
            "/content/DAMOa_gt/DAMOa2014a_000010_gt.h5\n",
            "/content/DAMOa_gt/DAMOa2014a_000008_gt.h5\n",
            "/content/DAMOa_gt/DAMOa2014a_000002_gt.h5\n",
            "/content/DAMOa_gt/DAMOa2014a_000004_gt.h5\n",
            "/content/DAMOa_gt/DAMOa2014a_000011_gt.h5\n",
            "[2299, 1287] 0.390625 0.390625 HALFb\n"
          ]
        },
        {
          "output_type": "error",
          "ename": "IndexError",
          "evalue": "ignored",
          "traceback": [
            "\u001b[0;31m---------------------------------------------------------------------------\u001b[0m",
            "\u001b[0;31mIndexError\u001b[0m                                Traceback (most recent call last)",
            "\u001b[0;32m<ipython-input-77-54124693b577>\u001b[0m in \u001b[0;36m<module>\u001b[0;34m()\u001b[0m\n\u001b[1;32m     17\u001b[0m \u001b[0;34m\u001b[0m\u001b[0m\n\u001b[1;32m     18\u001b[0m         \u001b[0;31m# make gt heatmap\u001b[0m\u001b[0;34m\u001b[0m\u001b[0;34m\u001b[0m\u001b[0;34m\u001b[0m\u001b[0m\n\u001b[0;32m---> 19\u001b[0;31m         \u001b[0mk_ds\u001b[0m \u001b[0;34m=\u001b[0m \u001b[0mmake_sparse_mat\u001b[0m\u001b[0;34m(\u001b[0m\u001b[0;34m(\u001b[0m\u001b[0;36m600\u001b[0m\u001b[0;34m,\u001b[0m \u001b[0;36m800\u001b[0m\u001b[0;34m)\u001b[0m\u001b[0;34m,\u001b[0m \u001b[0mds_dots\u001b[0m\u001b[0;34m)\u001b[0m\u001b[0;34m\u001b[0m\u001b[0;34m\u001b[0m\u001b[0m\n\u001b[0m\u001b[1;32m     20\u001b[0m         \u001b[0mk_ds\u001b[0m \u001b[0;34m=\u001b[0m \u001b[0mgaussian_filter_density\u001b[0m\u001b[0;34m(\u001b[0m\u001b[0mk_ds\u001b[0m\u001b[0;34m)\u001b[0m\u001b[0;34m\u001b[0m\u001b[0;34m\u001b[0m\u001b[0m\n\u001b[1;32m     21\u001b[0m \u001b[0;34m\u001b[0m\u001b[0m\n",
            "\u001b[0;32m<ipython-input-5-3de5a949ec6d>\u001b[0m in \u001b[0;36mmake_sparse_mat\u001b[0;34m(img_shape, dots)\u001b[0m\n\u001b[1;32m     17\u001b[0m     \u001b[0mmat\u001b[0m \u001b[0;34m=\u001b[0m \u001b[0mnp\u001b[0m\u001b[0;34m.\u001b[0m\u001b[0mzeros\u001b[0m\u001b[0;34m(\u001b[0m\u001b[0;34m(\u001b[0m\u001b[0mimg_shape\u001b[0m\u001b[0;34m[\u001b[0m\u001b[0;36m0\u001b[0m\u001b[0;34m]\u001b[0m\u001b[0;34m,\u001b[0m \u001b[0mimg_shape\u001b[0m\u001b[0;34m[\u001b[0m\u001b[0;36m1\u001b[0m\u001b[0;34m]\u001b[0m\u001b[0;34m)\u001b[0m\u001b[0;34m)\u001b[0m\u001b[0;34m\u001b[0m\u001b[0;34m\u001b[0m\u001b[0m\n\u001b[1;32m     18\u001b[0m     \u001b[0;32mfor\u001b[0m \u001b[0mdot\u001b[0m \u001b[0;32min\u001b[0m \u001b[0mdots\u001b[0m\u001b[0;34m:\u001b[0m\u001b[0;34m\u001b[0m\u001b[0;34m\u001b[0m\u001b[0m\n\u001b[0;32m---> 19\u001b[0;31m         \u001b[0mmat\u001b[0m\u001b[0;34m[\u001b[0m\u001b[0mdot\u001b[0m\u001b[0;34m[\u001b[0m\u001b[0;36m1\u001b[0m\u001b[0;34m]\u001b[0m\u001b[0;34m,\u001b[0m \u001b[0mdot\u001b[0m\u001b[0;34m[\u001b[0m\u001b[0;36m0\u001b[0m\u001b[0;34m]\u001b[0m\u001b[0;34m]\u001b[0m \u001b[0;34m=\u001b[0m \u001b[0;36m1\u001b[0m\u001b[0;34m\u001b[0m\u001b[0;34m\u001b[0m\u001b[0m\n\u001b[0m\u001b[1;32m     20\u001b[0m \u001b[0;34m\u001b[0m\u001b[0m\n\u001b[1;32m     21\u001b[0m     \u001b[0;32mreturn\u001b[0m \u001b[0mmat\u001b[0m\u001b[0;34m\u001b[0m\u001b[0;34m\u001b[0m\u001b[0m\n",
            "\u001b[0;31mIndexError\u001b[0m: index 898 is out of bounds for axis 1 with size 800"
          ]
        }
      ]
    },
    {
      "cell_type": "code",
      "source": [
        "# open each image\n",
        "img = Image.open(os.path.join('/content', data_split_name, row['imName']) + '.JPG')\n",
        "img.size\n",
        "img = img.resize((800, 600), Image.ANTIALIAS)\n",
        "        # image_list.append(img) TODO"
      ],
      "metadata": {
        "id": "kNIWE1Eq4tAm"
      },
      "execution_count": null,
      "outputs": []
    },
    {
      "cell_type": "code",
      "source": [
        "!rm -rf /content/BAILa_gt\n",
        "!rm -rf /content/DAMOa_gt\n",
        "!rm -rf /content/HALFb_gt"
      ],
      "metadata": {
        "colab": {
          "base_uri": "https://localhost:8080/"
        },
        "id": "xpHwMTDA8wsz",
        "outputId": "fc06dc1b-f8c7-482a-ef7c-06000b97ad06"
      },
      "execution_count": 76,
      "outputs": [
        {
          "output_type": "stream",
          "name": "stdout",
          "text": [
            "shell-init: error retrieving current directory: getcwd: cannot access parent directories: No such file or directory\n",
            "shell-init: error retrieving current directory: getcwd: cannot access parent directories: No such file or directory\n"
          ]
        }
      ]
    },
    {
      "cell_type": "code",
      "source": [
        ""
      ],
      "metadata": {
        "id": "nqdQLKUU81Hj"
      },
      "execution_count": null,
      "outputs": []
    }
  ]
}