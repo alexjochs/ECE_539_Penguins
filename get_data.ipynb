{
  "nbformat": 4,
  "nbformat_minor": 0,
  "metadata": {
    "colab": {
      "name": "get_data.ipynb",
      "provenance": [],
      "collapsed_sections": [],
      "include_colab_link": true
    },
    "kernelspec": {
      "name": "python3",
      "display_name": "Python 3"
    },
    "language_info": {
      "name": "python"
    }
  },
  "cells": [
    {
      "cell_type": "markdown",
      "metadata": {
        "id": "view-in-github",
        "colab_type": "text"
      },
      "source": [
        "<a href=\"https://colab.research.google.com/github/alexjochs/ECE_539_Penguins/blob/aochs%2Fdownload_data/get_data.ipynb\" target=\"_parent\"><img src=\"https://colab.research.google.com/assets/colab-badge.svg\" alt=\"Open In Colab\"/></a>"
      ]
    },
    {
      "cell_type": "code",
      "execution_count": null,
      "metadata": {
        "colab": {
          "base_uri": "https://localhost:8080/"
        },
        "id": "O32TUXzqkALg",
        "outputId": "4934d935-b876-4e51-a5db-a93bafc36a3a"
      },
      "outputs": [
        {
          "output_type": "stream",
          "name": "stdout",
          "text": [
            "Mounted at /content/gdrive\n"
          ]
        }
      ],
      "source": [
        "from google.colab import drive\n",
        "drive.mount('/content/gdrive')"
      ]
    },
    {
      "cell_type": "code",
      "source": [
        "data_filepath = r\"/content/gdrive/MyDrive/Penguin_counting/data_peng_watch\""
      ],
      "metadata": {
        "id": "2xFkVaYqo_Ih"
      },
      "execution_count": null,
      "outputs": []
    },
    {
      "cell_type": "code",
      "source": [
        "import pandas as pd"
      ],
      "metadata": {
        "id": "NiJsOBRWqZBr"
      },
      "execution_count": null,
      "outputs": []
    },
    {
      "cell_type": "code",
      "source": [
        "# Get Urls from Penguin Watch\n",
        "data = pd.read_csv('https://www.robots.ox.ac.uk/~vgg/data/penguins/penguin_data_urls.txt', sep=r\"\\n\", header=None, engine='python')"
      ],
      "metadata": {
        "id": "r9kVH9gCphI4"
      },
      "execution_count": null,
      "outputs": []
    },
    {
      "cell_type": "code",
      "source": [
        "# dont run this again unless you have time to kill\n",
        "for peng_data_url in data[0]:\n",
        "  !wget -P {data_filepath} {peng_data_url}"
      ],
      "metadata": {
        "id": "qcMIqVLOpyKB",
        "colab": {
          "base_uri": "https://localhost:8080/"
        },
        "outputId": "37370820-1d70-498f-8690-5a15eb908678"
      },
      "execution_count": null,
      "outputs": [
        {
          "output_type": "stream",
          "name": "stdout",
          "text": [
            "--2022-04-06 03:14:06--  https://thor.robots.ox.ac.uk/~vgg/data/penguins/CompleteAnnotations_2016-07-11.tgz\n",
            "Resolving thor.robots.ox.ac.uk (thor.robots.ox.ac.uk)... 129.67.95.98\n",
            "Connecting to thor.robots.ox.ac.uk (thor.robots.ox.ac.uk)|129.67.95.98|:443... connected.\n",
            "HTTP request sent, awaiting response... 200 OK\n",
            "Length: 47256126 (45M) [application/octet-stream]\n",
            "Saving to: ‘/content/gdrive/MyDrive/Penguin_counting/data_peng_watch/CompleteAnnotations_2016-07-11.tgz’\n",
            "\n",
            "CompleteAnnotations 100%[===================>]  45.07M  17.2MB/s    in 2.6s    \n",
            "\n",
            "2022-04-06 03:14:09 (17.2 MB/s) - ‘/content/gdrive/MyDrive/Penguin_counting/data_peng_watch/CompleteAnnotations_2016-07-11.tgz’ saved [47256126/47256126]\n",
            "\n",
            "--2022-04-06 03:14:09--  https://thor.robots.ox.ac.uk/~vgg/data/penguins/Splits_2016-07-11.tgz\n",
            "Resolving thor.robots.ox.ac.uk (thor.robots.ox.ac.uk)... 129.67.95.98\n",
            "Connecting to thor.robots.ox.ac.uk (thor.robots.ox.ac.uk)|129.67.95.98|:443... connected.\n",
            "HTTP request sent, awaiting response... 200 OK\n",
            "Length: 1169788 (1.1M) [application/octet-stream]\n",
            "Saving to: ‘/content/gdrive/MyDrive/Penguin_counting/data_peng_watch/Splits_2016-07-11.tgz’\n",
            "\n",
            "Splits_2016-07-11.t 100%[===================>]   1.12M  2.43MB/s    in 0.5s    \n",
            "\n",
            "2022-04-06 03:14:10 (2.43 MB/s) - ‘/content/gdrive/MyDrive/Penguin_counting/data_peng_watch/Splits_2016-07-11.tgz’ saved [1169788/1169788]\n",
            "\n",
            "--2022-04-06 03:14:10--  https://thor.robots.ox.ac.uk/~vgg/data/penguins/BAILa.tgz\n",
            "Resolving thor.robots.ox.ac.uk (thor.robots.ox.ac.uk)... 129.67.95.98\n",
            "Connecting to thor.robots.ox.ac.uk (thor.robots.ox.ac.uk)|129.67.95.98|:443... connected.\n",
            "HTTP request sent, awaiting response... 200 OK\n",
            "Length: 1778662965 (1.7G) [application/octet-stream]\n",
            "Saving to: ‘/content/gdrive/MyDrive/Penguin_counting/data_peng_watch/BAILa.tgz’\n",
            "\n",
            "BAILa.tgz           100%[===================>]   1.66G  30.6MB/s    in 58s     \n",
            "\n",
            "2022-04-06 03:15:09 (29.1 MB/s) - ‘/content/gdrive/MyDrive/Penguin_counting/data_peng_watch/BAILa.tgz’ saved [1778662965/1778662965]\n",
            "\n",
            "--2022-04-06 03:15:09--  https://thor.robots.ox.ac.uk/~vgg/data/penguins/DAMOa.tgz\n",
            "Resolving thor.robots.ox.ac.uk (thor.robots.ox.ac.uk)... 129.67.95.98\n",
            "Connecting to thor.robots.ox.ac.uk (thor.robots.ox.ac.uk)|129.67.95.98|:443... connected.\n",
            "HTTP request sent, awaiting response... 200 OK\n",
            "Length: 190480512 (182M) [application/octet-stream]\n",
            "Saving to: ‘/content/gdrive/MyDrive/Penguin_counting/data_peng_watch/DAMOa.tgz’\n",
            "\n",
            "DAMOa.tgz           100%[===================>] 181.66M  28.6MB/s    in 7.2s    \n",
            "\n",
            "2022-04-06 03:15:17 (25.1 MB/s) - ‘/content/gdrive/MyDrive/Penguin_counting/data_peng_watch/DAMOa.tgz’ saved [190480512/190480512]\n",
            "\n",
            "--2022-04-06 03:15:17--  https://thor.robots.ox.ac.uk/~vgg/data/penguins/GEORa.tgz\n",
            "Resolving thor.robots.ox.ac.uk (thor.robots.ox.ac.uk)... 129.67.95.98\n",
            "Connecting to thor.robots.ox.ac.uk (thor.robots.ox.ac.uk)|129.67.95.98|:443... connected.\n",
            "HTTP request sent, awaiting response... 200 OK\n",
            "Length: 1539039195 (1.4G) [application/octet-stream]\n",
            "Saving to: ‘/content/gdrive/MyDrive/Penguin_counting/data_peng_watch/GEORa.tgz’\n",
            "\n",
            "GEORa.tgz           100%[===================>]   1.43G  29.9MB/s    in 53s     \n",
            "\n",
            "2022-04-06 03:16:11 (27.5 MB/s) - ‘/content/gdrive/MyDrive/Penguin_counting/data_peng_watch/GEORa.tgz’ saved [1539039195/1539039195]\n",
            "\n",
            "--2022-04-06 03:16:11--  https://thor.robots.ox.ac.uk/~vgg/data/penguins/HALFb.tgz\n",
            "Resolving thor.robots.ox.ac.uk (thor.robots.ox.ac.uk)... 129.67.95.98\n",
            "Connecting to thor.robots.ox.ac.uk (thor.robots.ox.ac.uk)|129.67.95.98|:443... connected.\n",
            "HTTP request sent, awaiting response... 200 OK\n",
            "Length: 172722656 (165M) [application/octet-stream]\n",
            "Saving to: ‘/content/gdrive/MyDrive/Penguin_counting/data_peng_watch/HALFb.tgz’\n",
            "\n",
            "HALFb.tgz           100%[===================>] 164.72M  28.1MB/s    in 6.7s    \n",
            "\n",
            "2022-04-06 03:16:18 (24.6 MB/s) - ‘/content/gdrive/MyDrive/Penguin_counting/data_peng_watch/HALFb.tgz’ saved [172722656/172722656]\n",
            "\n",
            "--2022-04-06 03:16:18--  https://thor.robots.ox.ac.uk/~vgg/data/penguins/HALFc.tgz\n",
            "Resolving thor.robots.ox.ac.uk (thor.robots.ox.ac.uk)... 129.67.95.98\n",
            "Connecting to thor.robots.ox.ac.uk (thor.robots.ox.ac.uk)|129.67.95.98|:443... connected.\n",
            "HTTP request sent, awaiting response... 200 OK\n",
            "Length: 102835133 (98M) [application/octet-stream]\n",
            "Saving to: ‘/content/gdrive/MyDrive/Penguin_counting/data_peng_watch/HALFc.tgz’\n",
            "\n",
            "HALFc.tgz           100%[===================>]  98.07M  22.3MB/s    in 5.0s    \n",
            "\n",
            "2022-04-06 03:16:24 (19.6 MB/s) - ‘/content/gdrive/MyDrive/Penguin_counting/data_peng_watch/HALFc.tgz’ saved [102835133/102835133]\n",
            "\n",
            "--2022-04-06 03:16:24--  https://thor.robots.ox.ac.uk/~vgg/data/penguins/LOCKb.tgz\n",
            "Resolving thor.robots.ox.ac.uk (thor.robots.ox.ac.uk)... 129.67.95.98\n",
            "Connecting to thor.robots.ox.ac.uk (thor.robots.ox.ac.uk)|129.67.95.98|:443... connected.\n",
            "HTTP request sent, awaiting response... 200 OK\n",
            "Length: 1240160373 (1.2G) [application/octet-stream]\n",
            "Saving to: ‘/content/gdrive/MyDrive/Penguin_counting/data_peng_watch/LOCKb.tgz’\n",
            "\n",
            "LOCKb.tgz           100%[===================>]   1.15G  27.9MB/s    in 52s     \n",
            "\n",
            "2022-04-06 03:17:17 (22.6 MB/s) - ‘/content/gdrive/MyDrive/Penguin_counting/data_peng_watch/LOCKb.tgz’ saved [1240160373/1240160373]\n",
            "\n",
            "--2022-04-06 03:17:17--  https://thor.robots.ox.ac.uk/~vgg/data/penguins/MAIVb.tgz\n",
            "Resolving thor.robots.ox.ac.uk (thor.robots.ox.ac.uk)... 129.67.95.98\n",
            "Connecting to thor.robots.ox.ac.uk (thor.robots.ox.ac.uk)|129.67.95.98|:443... connected.\n",
            "HTTP request sent, awaiting response... 200 OK\n",
            "Length: 1991665060 (1.9G) [application/octet-stream]\n",
            "Saving to: ‘/content/gdrive/MyDrive/Penguin_counting/data_peng_watch/MAIVb.tgz’\n",
            "\n",
            "MAIVb.tgz           100%[===================>]   1.85G  30.3MB/s    in 68s     \n",
            "\n",
            "2022-04-06 03:18:25 (28.0 MB/s) - ‘/content/gdrive/MyDrive/Penguin_counting/data_peng_watch/MAIVb.tgz’ saved [1991665060/1991665060]\n",
            "\n",
            "--2022-04-06 03:18:25--  https://thor.robots.ox.ac.uk/~vgg/data/penguins/MAIVc.tgz\n",
            "Resolving thor.robots.ox.ac.uk (thor.robots.ox.ac.uk)... 129.67.95.98\n",
            "Connecting to thor.robots.ox.ac.uk (thor.robots.ox.ac.uk)|129.67.95.98|:443... connected.\n",
            "HTTP request sent, awaiting response... 200 OK\n",
            "Length: 2108662800 (2.0G) [application/octet-stream]\n",
            "Saving to: ‘/content/gdrive/MyDrive/Penguin_counting/data_peng_watch/MAIVc.tgz’\n",
            "\n",
            "MAIVc.tgz           100%[===================>]   1.96G  30.2MB/s    in 73s     \n",
            "\n",
            "2022-04-06 03:19:39 (27.5 MB/s) - ‘/content/gdrive/MyDrive/Penguin_counting/data_peng_watch/MAIVc.tgz’ saved [2108662800/2108662800]\n",
            "\n",
            "--2022-04-06 03:19:39--  https://thor.robots.ox.ac.uk/~vgg/data/penguins/NEKOa.tgz\n",
            "Resolving thor.robots.ox.ac.uk (thor.robots.ox.ac.uk)... 129.67.95.98\n",
            "Connecting to thor.robots.ox.ac.uk (thor.robots.ox.ac.uk)|129.67.95.98|:443... connected.\n",
            "HTTP request sent, awaiting response... 200 OK\n",
            "Length: 1117344145 (1.0G) [application/octet-stream]\n",
            "Saving to: ‘/content/gdrive/MyDrive/Penguin_counting/data_peng_watch/NEKOa.tgz’\n",
            "\n",
            "NEKOa.tgz           100%[===================>]   1.04G  29.2MB/s    in 41s     \n",
            "\n",
            "2022-04-06 03:20:21 (25.8 MB/s) - ‘/content/gdrive/MyDrive/Penguin_counting/data_peng_watch/NEKOa.tgz’ saved [1117344145/1117344145]\n",
            "\n",
            "--2022-04-06 03:20:21--  https://thor.robots.ox.ac.uk/~vgg/data/penguins/NEKOb.tgz\n",
            "Resolving thor.robots.ox.ac.uk (thor.robots.ox.ac.uk)... 129.67.95.98\n",
            "Connecting to thor.robots.ox.ac.uk (thor.robots.ox.ac.uk)|129.67.95.98|:443... connected.\n",
            "HTTP request sent, awaiting response... 200 OK\n",
            "Length: 1458511616 (1.4G) [application/octet-stream]\n",
            "Saving to: ‘/content/gdrive/MyDrive/Penguin_counting/data_peng_watch/NEKOb.tgz’\n",
            "\n",
            "NEKOb.tgz           100%[===================>]   1.36G  30.1MB/s    in 51s     \n",
            "\n",
            "2022-04-06 03:21:13 (27.0 MB/s) - ‘/content/gdrive/MyDrive/Penguin_counting/data_peng_watch/NEKOb.tgz’ saved [1458511616/1458511616]\n",
            "\n",
            "--2022-04-06 03:21:13--  https://thor.robots.ox.ac.uk/~vgg/data/penguins/NEKOc.tgz\n",
            "Resolving thor.robots.ox.ac.uk (thor.robots.ox.ac.uk)... 129.67.95.98\n",
            "Connecting to thor.robots.ox.ac.uk (thor.robots.ox.ac.uk)|129.67.95.98|:443... connected.\n",
            "HTTP request sent, awaiting response... 200 OK\n",
            "Length: 1667638819 (1.6G) [application/octet-stream]\n",
            "Saving to: ‘/content/gdrive/MyDrive/Penguin_counting/data_peng_watch/NEKOc.tgz’\n",
            "\n",
            "NEKOc.tgz           100%[===================>]   1.55G  28.9MB/s    in 70s     \n",
            "\n",
            "2022-04-06 03:22:24 (22.8 MB/s) - ‘/content/gdrive/MyDrive/Penguin_counting/data_peng_watch/NEKOc.tgz’ saved [1667638819/1667638819]\n",
            "\n",
            "--2022-04-06 03:22:24--  https://thor.robots.ox.ac.uk/~vgg/data/penguins/PETEc.tgz\n",
            "Resolving thor.robots.ox.ac.uk (thor.robots.ox.ac.uk)... 129.67.95.98\n",
            "Connecting to thor.robots.ox.ac.uk (thor.robots.ox.ac.uk)|129.67.95.98|:443... connected.\n",
            "HTTP request sent, awaiting response... 200 OK\n",
            "Length: 4335411530 (4.0G) [application/octet-stream]\n",
            "Saving to: ‘/content/gdrive/MyDrive/Penguin_counting/data_peng_watch/PETEc.tgz’\n",
            "\n",
            "PETEc.tgz           100%[===================>]   4.04G  29.4MB/s    in 2m 30s  \n",
            "\n",
            "2022-04-06 03:24:55 (27.5 MB/s) - ‘/content/gdrive/MyDrive/Penguin_counting/data_peng_watch/PETEc.tgz’ saved [4335411530/4335411530]\n",
            "\n",
            "--2022-04-06 03:24:55--  https://thor.robots.ox.ac.uk/~vgg/data/penguins/PETEd.tgz\n",
            "Resolving thor.robots.ox.ac.uk (thor.robots.ox.ac.uk)... 129.67.95.98\n",
            "Connecting to thor.robots.ox.ac.uk (thor.robots.ox.ac.uk)|129.67.95.98|:443... connected.\n",
            "HTTP request sent, awaiting response... 200 OK\n",
            "Length: 4145343163 (3.9G) [application/octet-stream]\n",
            "Saving to: ‘/content/gdrive/MyDrive/Penguin_counting/data_peng_watch/PETEd.tgz’\n",
            "\n",
            "PETEd.tgz           100%[===================>]   3.86G  30.0MB/s    in 2m 28s  \n",
            "\n",
            "2022-04-06 03:27:24 (26.8 MB/s) - ‘/content/gdrive/MyDrive/Penguin_counting/data_peng_watch/PETEd.tgz’ saved [4145343163/4145343163]\n",
            "\n",
            "--2022-04-06 03:27:24--  https://thor.robots.ox.ac.uk/~vgg/data/penguins/PETEe.tgz\n",
            "Resolving thor.robots.ox.ac.uk (thor.robots.ox.ac.uk)... 129.67.95.98\n",
            "Connecting to thor.robots.ox.ac.uk (thor.robots.ox.ac.uk)|129.67.95.98|:443... connected.\n",
            "HTTP request sent, awaiting response... 200 OK\n",
            "Length: 1308673544 (1.2G) [application/octet-stream]\n",
            "Saving to: ‘/content/gdrive/MyDrive/Penguin_counting/data_peng_watch/PETEe.tgz’\n",
            "\n",
            "PETEe.tgz           100%[===================>]   1.22G  14.8MB/s    in 64s     \n",
            "\n",
            "2022-04-06 03:28:29 (19.4 MB/s) - ‘/content/gdrive/MyDrive/Penguin_counting/data_peng_watch/PETEe.tgz’ saved [1308673544/1308673544]\n",
            "\n",
            "--2022-04-06 03:28:29--  https://thor.robots.ox.ac.uk/~vgg/data/penguins/PETEf.tgz\n",
            "Resolving thor.robots.ox.ac.uk (thor.robots.ox.ac.uk)... 129.67.95.98\n",
            "Connecting to thor.robots.ox.ac.uk (thor.robots.ox.ac.uk)|129.67.95.98|:443... connected.\n",
            "HTTP request sent, awaiting response... 200 OK\n",
            "Length: 3259878057 (3.0G) [application/octet-stream]\n",
            "Saving to: ‘/content/gdrive/MyDrive/Penguin_counting/data_peng_watch/PETEf.tgz’\n",
            "\n",
            "PETEf.tgz           100%[===================>]   3.04G  25.6MB/s    in 2m 11s  \n",
            "\n",
            "2022-04-06 03:30:41 (23.7 MB/s) - ‘/content/gdrive/MyDrive/Penguin_counting/data_peng_watch/PETEf.tgz’ saved [3259878057/3259878057]\n",
            "\n",
            "--2022-04-06 03:30:41--  https://thor.robots.ox.ac.uk/~vgg/data/penguins/SPIGa.tgz\n",
            "Resolving thor.robots.ox.ac.uk (thor.robots.ox.ac.uk)... 129.67.95.98\n",
            "Connecting to thor.robots.ox.ac.uk (thor.robots.ox.ac.uk)|129.67.95.98|:443... connected.\n",
            "HTTP request sent, awaiting response... 200 OK\n",
            "Length: 1590306229 (1.5G) [application/octet-stream]\n",
            "Saving to: ‘/content/gdrive/MyDrive/Penguin_counting/data_peng_watch/SPIGa.tgz’\n",
            "\n",
            "SPIGa.tgz           100%[===================>]   1.48G  12.3MB/s    in 99s     \n",
            "\n",
            "2022-04-06 03:32:21 (15.3 MB/s) - ‘/content/gdrive/MyDrive/Penguin_counting/data_peng_watch/SPIGa.tgz’ saved [1590306229/1590306229]\n",
            "\n"
          ]
        }
      ]
    }
  ]
}