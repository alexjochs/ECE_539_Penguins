{
  "nbformat": 4,
  "nbformat_minor": 0,
  "metadata": {
    "colab": {
      "name": "get_data.ipynb",
      "provenance": [],
      "authorship_tag": "ABX9TyMlDhLQUKp+y3KQpbyBqi0N",
      "include_colab_link": true
    },
    "kernelspec": {
      "name": "python3",
      "display_name": "Python 3"
    },
    "language_info": {
      "name": "python"
    }
  },
  "cells": [
    {
      "cell_type": "markdown",
      "metadata": {
        "id": "view-in-github",
        "colab_type": "text"
      },
      "source": [
        "<a href=\"https://colab.research.google.com/github/alexjochs/ECE_539_Penguins/blob/aochs%2Fdownload_data/get_data.ipynb\" target=\"_parent\"><img src=\"https://colab.research.google.com/assets/colab-badge.svg\" alt=\"Open In Colab\"/></a>"
      ]
    },
    {
      "cell_type": "code",
      "execution_count": null,
      "metadata": {
        "colab": {
          "base_uri": "https://localhost:8080/"
        },
        "id": "O32TUXzqkALg",
        "outputId": "cae105f8-e570-4baf-ba72-3f4ac5666011"
      },
      "outputs": [
        {
          "output_type": "stream",
          "name": "stdout",
          "text": [
            "Mounted at /content/gdrive\n"
          ]
        }
      ],
      "source": [
        "from google.colab import drive\n",
        "drive.mount('/content/gdrive')"
      ]
    },
    {
      "cell_type": "code",
      "source": [
        "data_filepath = r\"/content/gdrive/MyDrive/'Penguin counting'/data_peng_watch\""
      ],
      "metadata": {
        "id": "2xFkVaYqo_Ih"
      },
      "execution_count": null,
      "outputs": []
    },
    {
      "cell_type": "code",
      "source": [
        "import pandas as pd"
      ],
      "metadata": {
        "id": "NiJsOBRWqZBr"
      },
      "execution_count": null,
      "outputs": []
    },
    {
      "cell_type": "code",
      "source": [
        "# Get Urls from Penguin Watch\n",
        "data = pd.read_csv('https://www.robots.ox.ac.uk/~vgg/data/penguins/penguin_data_urls.txt', sep=r\"\\n\", header=None, engine='python')"
      ],
      "metadata": {
        "id": "r9kVH9gCphI4"
      },
      "execution_count": null,
      "outputs": []
    },
    {
      "cell_type": "code",
      "source": [
        "# dont run this again unless you have time to kill\n",
        "for peng_data_url in data[0]:\n",
        "  !wget -P {data_filepath} {peng_data_url}"
      ],
      "metadata": {
        "id": "qcMIqVLOpyKB"
      },
      "execution_count": null,
      "outputs": []
    },
    {
      "cell_type": "code",
      "source": [
        ""
      ],
      "metadata": {
        "id": "DEjr1PrtzEwU"
      },
      "execution_count": null,
      "outputs": []
    }
  ]
}